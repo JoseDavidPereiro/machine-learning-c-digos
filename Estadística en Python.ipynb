{
 "cells": [
  {
   "cell_type": "code",
   "execution_count": 4,
   "metadata": {},
   "outputs": [],
   "source": [
    "import pandas as pd "
   ]
  },
  {
   "cell_type": "code",
   "execution_count": 5,
   "metadata": {},
   "outputs": [],
   "source": [
    "import numpy as np "
   ]
  },
  {
   "cell_type": "code",
   "execution_count": 10,
   "metadata": {},
   "outputs": [],
   "source": [
    "import random"
   ]
  },
  {
   "cell_type": "code",
   "execution_count": 11,
   "metadata": {},
   "outputs": [
    {
     "data": {
      "text/plain": [
       "[50494,\n",
       " 99346,\n",
       " 55125,\n",
       " 5306,\n",
       " 33936,\n",
       " 67013,\n",
       " 63691,\n",
       " 53075,\n",
       " 39755,\n",
       " 62468,\n",
       " 46930,\n",
       " 76465,\n",
       " 28631,\n",
       " 66150,\n",
       " 18254,\n",
       " 36941,\n",
       " 18316,\n",
       " 99064,\n",
       " 12429,\n",
       " 81050,\n",
       " 32834,\n",
       " 69804,\n",
       " 92428,\n",
       " 78892,\n",
       " 19262,\n",
       " 40651,\n",
       " 12945,\n",
       " 95660,\n",
       " 9665,\n",
       " 89651,\n",
       " 43279,\n",
       " 61884,\n",
       " 73375,\n",
       " 13199,\n",
       " 46372,\n",
       " 56907,\n",
       " 41444,\n",
       " 80070,\n",
       " 83941,\n",
       " 26801,\n",
       " 72420,\n",
       " 62522,\n",
       " 58024,\n",
       " 68334,\n",
       " 34143,\n",
       " 8163,\n",
       " 71919,\n",
       " 1840,\n",
       " 12225,\n",
       " 94333,\n",
       " 52274,\n",
       " 93094,\n",
       " 87576,\n",
       " 81954,\n",
       " 149,\n",
       " 80202,\n",
       " 64694,\n",
       " 43664,\n",
       " 31969,\n",
       " 95719]"
      ]
     },
     "execution_count": 11,
     "metadata": {},
     "output_type": "execute_result"
    }
   ],
   "source": [
    "random.seed(0)\n",
    "A=(random.sample(range(100000),60))\n",
    "A"
   ]
  },
  {
   "cell_type": "code",
   "execution_count": 12,
   "metadata": {},
   "outputs": [
    {
     "data": {
      "text/plain": [
       "53312.01666666667"
      ]
     },
     "execution_count": 12,
     "metadata": {},
     "output_type": "execute_result"
    }
   ],
   "source": [
    "mean=np.mean(A)\n",
    "mean"
   ]
  },
  {
   "cell_type": "code",
   "execution_count": 13,
   "metadata": {},
   "outputs": [
    {
     "data": {
      "text/plain": [
       "ModeResult(mode=array([149]), count=array([1]))"
      ]
     },
     "execution_count": 13,
     "metadata": {},
     "output_type": "execute_result"
    }
   ],
   "source": [
    "from scipy import stats \n",
    "stats.mode(A)"
   ]
  },
  {
   "cell_type": "code",
   "execution_count": 14,
   "metadata": {},
   "outputs": [
    {
     "data": {
      "text/plain": [
       "32617.75"
      ]
     },
     "execution_count": 14,
     "metadata": {},
     "output_type": "execute_result"
    }
   ],
   "source": [
    "np.percentile(A,25)"
   ]
  },
  {
   "cell_type": "code",
   "execution_count": 15,
   "metadata": {},
   "outputs": [
    {
     "data": {
      "text/plain": [
       "810711216.7830557"
      ]
     },
     "execution_count": 15,
     "metadata": {},
     "output_type": "execute_result"
    }
   ],
   "source": [
    "#varianza cómo se aleja cada valor de la media \n",
    "np.var(A)"
   ]
  },
  {
   "cell_type": "code",
   "execution_count": 16,
   "metadata": {},
   "outputs": [
    {
     "data": {
      "text/plain": [
       "28472.991005215023"
      ]
     },
     "execution_count": 16,
     "metadata": {},
     "output_type": "execute_result"
    }
   ],
   "source": [
    "#desviación típica, raíz cuadrada var volvemos a la dimensión original\n",
    "std=np.std(A)\n",
    "std"
   ]
  },
  {
   "cell_type": "code",
   "execution_count": 17,
   "metadata": {},
   "outputs": [
    {
     "data": {
      "text/plain": [
       "53.40820472660482"
      ]
     },
     "execution_count": 17,
     "metadata": {},
     "output_type": "execute_result"
    }
   ],
   "source": [
    "#coeficiente variación variabilidad relativa a desviación\n",
    "#típica entre la media \n",
    "std/mean*100"
   ]
  },
  {
   "cell_type": "code",
   "execution_count": 18,
   "metadata": {},
   "outputs": [],
   "source": [
    "#para modelos asimétricos \n",
    "import scipy.stats as sp \n",
    "from IPython.display import Image "
   ]
  },
  {
   "cell_type": "code",
   "execution_count": null,
   "metadata": {},
   "outputs": [],
   "source": []
  }
 ],
 "metadata": {
  "kernelspec": {
   "display_name": "Python 3",
   "language": "python",
   "name": "python3"
  },
  "language_info": {
   "codemirror_mode": {
    "name": "ipython",
    "version": 3
   },
   "file_extension": ".py",
   "mimetype": "text/x-python",
   "name": "python",
   "nbconvert_exporter": "python",
   "pygments_lexer": "ipython3",
   "version": "3.7.4"
  }
 },
 "nbformat": 4,
 "nbformat_minor": 2
}
