{
 "cells": [
  {
   "cell_type": "markdown",
   "metadata": {},
   "source": [
    "# Contraste de hipótesis nula"
   ]
  },
  {
   "cell_type": "markdown",
   "metadata": {},
   "source": [
    "* 1. Definir hipótesis nula (mu0) y alternativa uni o bilateral. \n",
    "* 2. Tomar una muestra aleatoria de tamaño n y calcular el valor del estimador (promedio, proporción,...)\n",
    "* 3. Calcular el estadístico de contraste Z-valor  o t-valor. \n",
    "* 4. Calcular el p-valor asociado. \n",
    "* 5. Comparar p-valor y nivel de significación y decidir. "
   ]
  },
  {
   "cell_type": "markdown",
   "metadata": {},
   "source": [
    "# Ejercicio ejemplo pizzero"
   ]
  },
  {
   "cell_type": "markdown",
   "metadata": {},
   "source": [
    "Afirma que pizza promedio inferior a 20 minutos con desviación típica de 3, como sospechamos que es falso tomamos 64 de las entregas de la última semana y obtenemos una media de 21,2 minutos. \n",
    "H0: mu<=20 \n",
    "H1: mu>20   donde sigma es 3 \n",
    "Xpromedio =21,2 mins y n=64 "
   ]
  },
  {
   "cell_type": "code",
   "execution_count": 2,
   "metadata": {},
   "outputs": [
    {
     "data": {
      "text/plain": [
       "3.199999999999998"
      ]
     },
     "execution_count": 2,
     "metadata": {},
     "output_type": "execute_result"
    }
   ],
   "source": [
    "import numpy as np\n",
    "#Calculamos Z \n",
    "Z=(21.2-20)/(3/np.sqrt(64))\n",
    "Z"
   ]
  },
  {
   "cell_type": "code",
   "execution_count": 3,
   "metadata": {},
   "outputs": [],
   "source": [
    "#p=P(Z>3.2)= 1-P(Z<3.2)=1-0.999=0.001\n",
    "#Confianza del 95% así que alfa=0,05\n",
    "#0.001<0.05 \n"
   ]
  },
  {
   "cell_type": "markdown",
   "metadata": {},
   "source": [
    "Tenemos el Z, nos da 3.2, nos da el (Z>3.2) y también 1-P(Z<3.2), tablas de Z o se lo pregunto a python. Se rechaza la hipótesis nula y NO LLEVA LA COMIDA CON PROMEDIO INFERIOR A 20 Y CON DESVIACIÓN TÍPICA de 3. "
   ]
  },
  {
   "cell_type": "markdown",
   "metadata": {},
   "source": [
    "# Test de la Chi Cuadrado "
   ]
  },
  {
   "cell_type": "markdown",
   "metadata": {},
   "source": [
    "E_i esperados, O_i observados, se pueden calcular las discrepancias y elevar al cuadrado para eliminar los valores negativos. En este caso, se tienen eliminadas las esperadas. Se utiliza como comprobar ajustes, comprobar una fuente si vienen de una distribución conocida, si los datos tienen cierto desvío con los datos esperados. La prueba de bondad de ajuste, falla. Dos variables, dos pruebas: homogeneidad e independencia, posible relación con un parámetro de independencia. Parámetro de la Chi Cuadrado igual. También se utiliza con la hipótesis nula. Comprobar si los datos son demasiado buenos para ser verdad, se puede comprobar si los datos han sido trucados o modificados. "
   ]
  },
  {
   "cell_type": "markdown",
   "metadata": {},
   "source": [
    "La Chi cuadrado tienen grados de libertad, a medida que aumentan los grados de libertad se baja. Tenemos un caso hipotético. Si es un experimento aleatorio, los datos no pueden ser caprichosos, se puede comprobar si fueron cambiados o algo. df=n_categories-1 , df= grados de libertad, df=(n_row-1)*(n_col-1)"
   ]
  },
  {
   "cell_type": "markdown",
   "metadata": {},
   "source": [
    "Caso hipotético si una moneda es realmente regular o no o está trucada. Si los datos cumplen una cierta hipótesis, si se tiran 1000 veces. 553 caras y 447 sellos. H0 - proporción de caras y cruces es 0.5, H1- proporción no es 0.5. Las esperadas son 500 y 500. \n"
   ]
  },
  {
   "cell_type": "code",
   "execution_count": 10,
   "metadata": {},
   "outputs": [
    {
     "data": {
      "text/plain": [
       "11.236"
      ]
     },
     "execution_count": 10,
     "metadata": {},
     "output_type": "execute_result"
    }
   ],
   "source": [
    "#Chi cuadrado \n",
    "((553-500)**2+(447-500)**2)/500"
   ]
  },
  {
   "cell_type": "code",
   "execution_count": 11,
   "metadata": {},
   "outputs": [],
   "source": [
    "#Número de grados, si vemos en las tablas alfa=0.05\n",
    "#Distribución chi2 alfa= 3.481 y chi2=11.236 es mucho mayor\n"
   ]
  },
  {
   "cell_type": "markdown",
   "metadata": {},
   "source": [
    "La hipótesis nula es que son independientes, en las carreras "
   ]
  },
  {
   "cell_type": "code",
   "execution_count": 13,
   "metadata": {},
   "outputs": [],
   "source": [
    "#nos da un chi cuadrado de 3.9 y el chi cuadrado esperado\n",
    "#es 5.99 entonces el obtenido es menor al real \n",
    "#no podemos rechazar la hipótesis nula. \n",
    "#La elección de un tipo de carrera es independiente."
   ]
  },
  {
   "cell_type": "markdown",
   "metadata": {},
   "source": []
  }
 ],
 "metadata": {
  "kernelspec": {
   "display_name": "Python 3",
   "language": "python",
   "name": "python3"
  },
  "language_info": {
   "codemirror_mode": {
    "name": "ipython",
    "version": 3
   },
   "file_extension": ".py",
   "mimetype": "text/x-python",
   "name": "python",
   "nbconvert_exporter": "python",
   "pygments_lexer": "ipython3",
   "version": "3.7.4"
  }
 },
 "nbformat": 4,
 "nbformat_minor": 2
}
