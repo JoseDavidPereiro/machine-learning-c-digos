{
 "cells": [
  {
   "cell_type": "markdown",
   "metadata": {},
   "source": [
    "# Modelos de Regresión Lineal \n"
   ]
  },
  {
   "cell_type": "markdown",
   "metadata": {},
   "source": [
    "## Modelo con datos simulados"
   ]
  },
  {
   "cell_type": "markdown",
   "metadata": {},
   "source": [
    "* y=a+b*x\n",
    "* x = 100 valores distribuidos según una N (1.5, 2.5)\n",
    "* ye = 5+1.9*x + e (error) \n",
    "* e = estará distribuida según una normal N(0,0.8)"
   ]
  },
  {
   "cell_type": "code",
   "execution_count": 46,
   "metadata": {},
   "outputs": [],
   "source": [
    "import pandas as pd "
   ]
  },
  {
   "cell_type": "code",
   "execution_count": 47,
   "metadata": {},
   "outputs": [],
   "source": [
    "import numpy as np \n",
    "import matplotlib.pyplot as plt"
   ]
  },
  {
   "cell_type": "code",
   "execution_count": 48,
   "metadata": {},
   "outputs": [],
   "source": [
    "x=1.5+2.5*np.random.randn(100)"
   ]
  },
  {
   "cell_type": "code",
   "execution_count": 49,
   "metadata": {},
   "outputs": [],
   "source": [
    "#este es el error\n",
    "res=0+0.8*np.random.randn(100)"
   ]
  },
  {
   "cell_type": "code",
   "execution_count": 50,
   "metadata": {},
   "outputs": [],
   "source": [
    "y_pred=5+1.9*x"
   ]
  },
  {
   "cell_type": "code",
   "execution_count": 51,
   "metadata": {},
   "outputs": [],
   "source": [
    "y_act=5+1.9*x + res"
   ]
  },
  {
   "cell_type": "code",
   "execution_count": 52,
   "metadata": {},
   "outputs": [],
   "source": [
    "x_list = x.tolist()\n",
    "y_pred_list= y_pred.tolist()\n",
    "y_act_list = y_act.tolist()"
   ]
  },
  {
   "cell_type": "code",
   "execution_count": 53,
   "metadata": {},
   "outputs": [],
   "source": [
    "data = pd.DataFrame(\n",
    "    {\n",
    "        \"x\": x_list, \n",
    "        \"y_actual\": y_act_list,\n",
    "        \"y_prediccion\": y_pred_list\n",
    "    }\n",
    ")"
   ]
  },
  {
   "cell_type": "code",
   "execution_count": 54,
   "metadata": {},
   "outputs": [
    {
     "data": {
      "text/html": [
       "<div>\n",
       "<style scoped>\n",
       "    .dataframe tbody tr th:only-of-type {\n",
       "        vertical-align: middle;\n",
       "    }\n",
       "\n",
       "    .dataframe tbody tr th {\n",
       "        vertical-align: top;\n",
       "    }\n",
       "\n",
       "    .dataframe thead th {\n",
       "        text-align: right;\n",
       "    }\n",
       "</style>\n",
       "<table border=\"1\" class=\"dataframe\">\n",
       "  <thead>\n",
       "    <tr style=\"text-align: right;\">\n",
       "      <th></th>\n",
       "      <th>x</th>\n",
       "      <th>y_actual</th>\n",
       "      <th>y_prediccion</th>\n",
       "    </tr>\n",
       "  </thead>\n",
       "  <tbody>\n",
       "    <tr>\n",
       "      <td>0</td>\n",
       "      <td>-0.488944</td>\n",
       "      <td>2.734001</td>\n",
       "      <td>4.071007</td>\n",
       "    </tr>\n",
       "    <tr>\n",
       "      <td>1</td>\n",
       "      <td>-4.051476</td>\n",
       "      <td>-2.600463</td>\n",
       "      <td>-2.697804</td>\n",
       "    </tr>\n",
       "    <tr>\n",
       "      <td>2</td>\n",
       "      <td>-1.318708</td>\n",
       "      <td>2.778484</td>\n",
       "      <td>2.494455</td>\n",
       "    </tr>\n",
       "    <tr>\n",
       "      <td>3</td>\n",
       "      <td>1.248681</td>\n",
       "      <td>6.431919</td>\n",
       "      <td>7.372494</td>\n",
       "    </tr>\n",
       "    <tr>\n",
       "      <td>4</td>\n",
       "      <td>1.823078</td>\n",
       "      <td>7.922952</td>\n",
       "      <td>8.463847</td>\n",
       "    </tr>\n",
       "  </tbody>\n",
       "</table>\n",
       "</div>"
      ],
      "text/plain": [
       "          x  y_actual  y_prediccion\n",
       "0 -0.488944  2.734001      4.071007\n",
       "1 -4.051476 -2.600463     -2.697804\n",
       "2 -1.318708  2.778484      2.494455\n",
       "3  1.248681  6.431919      7.372494\n",
       "4  1.823078  7.922952      8.463847"
      ]
     },
     "execution_count": 54,
     "metadata": {},
     "output_type": "execute_result"
    }
   ],
   "source": [
    "data.head()"
   ]
  },
  {
   "cell_type": "code",
   "execution_count": 55,
   "metadata": {},
   "outputs": [
    {
     "data": {
      "text/plain": [
       "Text(0, 0.5, 'Valor actual')"
      ]
     },
     "execution_count": 55,
     "metadata": {},
     "output_type": "execute_result"
    },
    {
     "data": {
      "image/png": "[encoded data removed]",
      "text/plain": [
       "<Figure size 432x288 with 1 Axes>"
      ]
     },
     "metadata": {
      "needs_background": "light"
     },
     "output_type": "display_data"
    }
   ],
   "source": [
    "%matplotlib inline\n",
    "y_mean =[np.mean(y_act) for i in range(1, len(x_list)+1)]\n",
    "plt.plot(x,y_pred)\n",
    "plt.plot(x, y_act, \"ro\")\n",
    "plt.plot(x, y_mean, \"go\")\n",
    "plt.title(\"Valor actual vs Predicción\")\n",
    "plt.xlabel(\"Predicción\")\n",
    "plt.ylabel(\"Valor actual\")\n"
   ]
  },
  {
   "cell_type": "code",
   "execution_count": 56,
   "metadata": {},
   "outputs": [],
   "source": [
    "#SSD es la distancia con respecto a la regresión\n",
    "#SST es la distancia con respecto al promedio \n",
    "#SSR es la distancia del promedio y la regresión \n",
    "#SST=SSR+SSD es el ERROR TOTAL COMETIDO. \n",
    "#Lo que más importa es que SST sea grande y SSD sea pequeño\n",
    "#El error aleatorio sea poco con comparación al error total\n",
    "#R cuadrado = SSR/SST (siempre será más pequeño que 1)\n",
    "#Hay otros factores y buen indicador de que el modelo es efectivo \n"
   ]
  },
  {
   "cell_type": "code",
   "execution_count": 57,
   "metadata": {},
   "outputs": [],
   "source": [
    "data[\"SSR\"]=(data[\"y_prediccion\"]-np.mean(y_act))**2\n",
    "data[\"SSD\"]=(data[\"y_prediccion\"]-data[\"y_actual\"])**2\n",
    "data[\"SST\"]=(data[\"y_actual\"]-np.mean(y_act))**2"
   ]
  },
  {
   "cell_type": "code",
   "execution_count": 58,
   "metadata": {},
   "outputs": [
    {
     "data": {
      "text/html": [
       "<div>\n",
       "<style scoped>\n",
       "    .dataframe tbody tr th:only-of-type {\n",
       "        vertical-align: middle;\n",
       "    }\n",
       "\n",
       "    .dataframe tbody tr th {\n",
       "        vertical-align: top;\n",
       "    }\n",
       "\n",
       "    .dataframe thead th {\n",
       "        text-align: right;\n",
       "    }\n",
       "</style>\n",
       "<table border=\"1\" class=\"dataframe\">\n",
       "  <thead>\n",
       "    <tr style=\"text-align: right;\">\n",
       "      <th></th>\n",
       "      <th>x</th>\n",
       "      <th>y_actual</th>\n",
       "      <th>y_prediccion</th>\n",
       "      <th>SSR</th>\n",
       "      <th>SSD</th>\n",
       "      <th>SST</th>\n",
       "    </tr>\n",
       "  </thead>\n",
       "  <tbody>\n",
       "    <tr>\n",
       "      <td>0</td>\n",
       "      <td>-0.488944</td>\n",
       "      <td>2.734001</td>\n",
       "      <td>4.071007</td>\n",
       "      <td>7.937680</td>\n",
       "      <td>1.787585</td>\n",
       "      <td>17.258997</td>\n",
       "    </tr>\n",
       "    <tr>\n",
       "      <td>1</td>\n",
       "      <td>-4.051476</td>\n",
       "      <td>-2.600463</td>\n",
       "      <td>-2.697804</td>\n",
       "      <td>91.895238</td>\n",
       "      <td>0.009475</td>\n",
       "      <td>90.038449</td>\n",
       "    </tr>\n",
       "    <tr>\n",
       "      <td>2</td>\n",
       "      <td>-1.318708</td>\n",
       "      <td>2.778484</td>\n",
       "      <td>2.494455</td>\n",
       "      <td>19.306721</td>\n",
       "      <td>0.080672</td>\n",
       "      <td>16.891380</td>\n",
       "    </tr>\n",
       "    <tr>\n",
       "      <td>3</td>\n",
       "      <td>1.248681</td>\n",
       "      <td>6.431919</td>\n",
       "      <td>7.372494</td>\n",
       "      <td>0.234351</td>\n",
       "      <td>0.884680</td>\n",
       "      <td>0.208371</td>\n",
       "    </tr>\n",
       "    <tr>\n",
       "      <td>4</td>\n",
       "      <td>1.823078</td>\n",
       "      <td>7.922952</td>\n",
       "      <td>8.463847</td>\n",
       "      <td>2.482047</td>\n",
       "      <td>0.292568</td>\n",
       "      <td>1.070306</td>\n",
       "    </tr>\n",
       "  </tbody>\n",
       "</table>\n",
       "</div>"
      ],
      "text/plain": [
       "          x  y_actual  y_prediccion        SSR       SSD        SST\n",
       "0 -0.488944  2.734001      4.071007   7.937680  1.787585  17.258997\n",
       "1 -4.051476 -2.600463     -2.697804  91.895238  0.009475  90.038449\n",
       "2 -1.318708  2.778484      2.494455  19.306721  0.080672  16.891380\n",
       "3  1.248681  6.431919      7.372494   0.234351  0.884680   0.208371\n",
       "4  1.823078  7.922952      8.463847   2.482047  0.292568   1.070306"
      ]
     },
     "execution_count": 58,
     "metadata": {},
     "output_type": "execute_result"
    }
   ],
   "source": [
    "data.head()"
   ]
  },
  {
   "cell_type": "code",
   "execution_count": 59,
   "metadata": {},
   "outputs": [],
   "source": [
    "SSR =sum(data[\"SSR\"])\n",
    "SSD=sum(data[\"SSD\"])\n",
    "SST=sum(data[\"SST\"])"
   ]
  },
  {
   "cell_type": "code",
   "execution_count": 60,
   "metadata": {},
   "outputs": [
    {
     "data": {
      "text/plain": [
       "2095.2831311446394"
      ]
     },
     "execution_count": 60,
     "metadata": {},
     "output_type": "execute_result"
    }
   ],
   "source": [
    "SSR"
   ]
  },
  {
   "cell_type": "code",
   "execution_count": 61,
   "metadata": {},
   "outputs": [
    {
     "data": {
      "text/plain": [
       "63.318485179358525"
      ]
     },
     "execution_count": 61,
     "metadata": {},
     "output_type": "execute_result"
    }
   ],
   "source": [
    "SSD"
   ]
  },
  {
   "cell_type": "code",
   "execution_count": 62,
   "metadata": {},
   "outputs": [
    {
     "data": {
      "text/plain": [
       "2161.828846195339"
      ]
     },
     "execution_count": 62,
     "metadata": {},
     "output_type": "execute_result"
    }
   ],
   "source": [
    "SST"
   ]
  },
  {
   "cell_type": "code",
   "execution_count": 63,
   "metadata": {},
   "outputs": [
    {
     "data": {
      "text/plain": [
       "2158.601616323998"
      ]
     },
     "execution_count": 63,
     "metadata": {},
     "output_type": "execute_result"
    }
   ],
   "source": [
    "SSR+SSD"
   ]
  },
  {
   "cell_type": "code",
   "execution_count": 64,
   "metadata": {},
   "outputs": [
    {
     "data": {
      "text/plain": [
       "0.9692178614566018"
      ]
     },
     "execution_count": 64,
     "metadata": {},
     "output_type": "execute_result"
    }
   ],
   "source": [
    "R2=SSR/SST\n",
    "R2"
   ]
  },
  {
   "cell_type": "code",
   "execution_count": 65,
   "metadata": {},
   "outputs": [],
   "source": [
    "#el error aleatorio es pequeño \n",
    "#condiciones la suma de los cuadrados de diferencia normal\n",
    "#distribución normal "
   ]
  },
  {
   "cell_type": "code",
   "execution_count": 67,
   "metadata": {},
   "outputs": [
    {
     "data": {
      "text/plain": [
       "(array([ 1.,  5., 13., 18., 22., 17., 10.,  8.,  4.,  2.]),\n",
       " array([-1.72927341, -1.33028967, -0.93130593, -0.53232219, -0.13333845,\n",
       "         0.26564529,  0.66462902,  1.06361276,  1.4625965 ,  1.86158024,\n",
       "         2.26056398]),\n",
       " <a list of 10 Patch objects>)"
      ]
     },
     "execution_count": 67,
     "metadata": {},
     "output_type": "execute_result"
    },
    {
     "data": {
      "image/png": "[encoded data removed]",
      "text/plain": [
       "<Figure size 432x288 with 1 Axes>"
      ]
     },
     "metadata": {
      "needs_background": "light"
     },
     "output_type": "display_data"
    }
   ],
   "source": [
    "plt.hist((data[\"y_prediccion\"]-data[\"y_actual\"]))\n",
    "#SSD si sigue una distribución normal "
   ]
  },
  {
   "cell_type": "markdown",
   "metadata": {},
   "source": [
    "# Obteniendo los valores de la regresión "
   ]
  },
  {
   "cell_type": "markdown",
   "metadata": {},
   "source": [
    "* y=a+b*x\n",
    "* b=sum(xi-x_m)*yi-y_m)/sum(xi-x_m)^2)\n",
    "* a=y_m-b*x_m "
   ]
  },
  {
   "cell_type": "code",
   "execution_count": 72,
   "metadata": {},
   "outputs": [
    {
     "data": {
      "text/plain": [
       "(1.0831126862434652, 6.888395932394583)"
      ]
     },
     "execution_count": 72,
     "metadata": {},
     "output_type": "execute_result"
    }
   ],
   "source": [
    "x_mean=np.mean(data[\"x\"])\n",
    "y_mean=np.mean(data[\"y_actual\"])\n",
    "x_mean, y_mean #raya verde horizontal"
   ]
  },
  {
   "cell_type": "code",
   "execution_count": 73,
   "metadata": {},
   "outputs": [],
   "source": [
    "data[\"beta_n\"]=(data[\"x\"]-x_mean)*(data[\"y_actual\"]-y_mean)\n",
    "data[\"beta_d\"]=(data[\"x\"]-x_mean)**2"
   ]
  },
  {
   "cell_type": "code",
   "execution_count": 74,
   "metadata": {},
   "outputs": [],
   "source": [
    "beta=sum(data[\"beta_n\"])/sum(data[\"beta_d\"])"
   ]
  },
  {
   "cell_type": "code",
   "execution_count": 75,
   "metadata": {},
   "outputs": [],
   "source": [
    "alpha=y_mean-beta*x_mean"
   ]
  },
  {
   "cell_type": "code",
   "execution_count": 77,
   "metadata": {},
   "outputs": [
    {
     "data": {
      "text/plain": [
       "(4.826068549288345, 1.9040746261212769)"
      ]
     },
     "execution_count": 77,
     "metadata": {},
     "output_type": "execute_result"
    }
   ],
   "source": [
    "alpha, beta\n",
    "#alpha era 5, y beta era 1,9 el modelo sí funciona. "
   ]
  },
  {
   "cell_type": "markdown",
   "metadata": {},
   "source": [
    "Modelo lineal obtenido por regresión \n",
    "y=4.826068549288345 x + 1.9040746261212769"
   ]
  },
  {
   "cell_type": "code",
   "execution_count": 78,
   "metadata": {},
   "outputs": [],
   "source": [
    "data[\"y_model\"]=alpha+beta*data[\"x\"]"
   ]
  },
  {
   "cell_type": "code",
   "execution_count": 79,
   "metadata": {},
   "outputs": [
    {
     "data": {
      "text/html": [
       "<div>\n",
       "<style scoped>\n",
       "    .dataframe tbody tr th:only-of-type {\n",
       "        vertical-align: middle;\n",
       "    }\n",
       "\n",
       "    .dataframe tbody tr th {\n",
       "        vertical-align: top;\n",
       "    }\n",
       "\n",
       "    .dataframe thead th {\n",
       "        text-align: right;\n",
       "    }\n",
       "</style>\n",
       "<table border=\"1\" class=\"dataframe\">\n",
       "  <thead>\n",
       "    <tr style=\"text-align: right;\">\n",
       "      <th></th>\n",
       "      <th>x</th>\n",
       "      <th>y_actual</th>\n",
       "      <th>y_prediccion</th>\n",
       "      <th>SSR</th>\n",
       "      <th>SSD</th>\n",
       "      <th>SST</th>\n",
       "      <th>beta_n</th>\n",
       "      <th>beta_d</th>\n",
       "      <th>y_model</th>\n",
       "    </tr>\n",
       "  </thead>\n",
       "  <tbody>\n",
       "    <tr>\n",
       "      <td>0</td>\n",
       "      <td>-0.488944</td>\n",
       "      <td>2.734001</td>\n",
       "      <td>4.071007</td>\n",
       "      <td>7.937680</td>\n",
       "      <td>1.787585</td>\n",
       "      <td>17.258997</td>\n",
       "      <td>6.530943</td>\n",
       "      <td>2.471361</td>\n",
       "      <td>3.895083</td>\n",
       "    </tr>\n",
       "    <tr>\n",
       "      <td>1</td>\n",
       "      <td>-4.051476</td>\n",
       "      <td>-2.600463</td>\n",
       "      <td>-2.697804</td>\n",
       "      <td>91.895238</td>\n",
       "      <td>0.009475</td>\n",
       "      <td>90.038449</td>\n",
       "      <td>48.721389</td>\n",
       "      <td>26.364001</td>\n",
       "      <td>-2.888244</td>\n",
       "    </tr>\n",
       "    <tr>\n",
       "      <td>2</td>\n",
       "      <td>-1.318708</td>\n",
       "      <td>2.778484</td>\n",
       "      <td>2.494455</td>\n",
       "      <td>19.306721</td>\n",
       "      <td>0.080672</td>\n",
       "      <td>16.891380</td>\n",
       "      <td>9.871273</td>\n",
       "      <td>5.768743</td>\n",
       "      <td>2.315150</td>\n",
       "    </tr>\n",
       "    <tr>\n",
       "      <td>3</td>\n",
       "      <td>1.248681</td>\n",
       "      <td>6.431919</td>\n",
       "      <td>7.372494</td>\n",
       "      <td>0.234351</td>\n",
       "      <td>0.884680</td>\n",
       "      <td>0.208371</td>\n",
       "      <td>-0.075578</td>\n",
       "      <td>0.027413</td>\n",
       "      <td>7.203650</td>\n",
       "    </tr>\n",
       "    <tr>\n",
       "      <td>4</td>\n",
       "      <td>1.823078</td>\n",
       "      <td>7.922952</td>\n",
       "      <td>8.463847</td>\n",
       "      <td>2.482047</td>\n",
       "      <td>0.292568</td>\n",
       "      <td>1.070306</td>\n",
       "      <td>0.765535</td>\n",
       "      <td>0.547548</td>\n",
       "      <td>8.297344</td>\n",
       "    </tr>\n",
       "  </tbody>\n",
       "</table>\n",
       "</div>"
      ],
      "text/plain": [
       "          x  y_actual  y_prediccion        SSR       SSD        SST  \\\n",
       "0 -0.488944  2.734001      4.071007   7.937680  1.787585  17.258997   \n",
       "1 -4.051476 -2.600463     -2.697804  91.895238  0.009475  90.038449   \n",
       "2 -1.318708  2.778484      2.494455  19.306721  0.080672  16.891380   \n",
       "3  1.248681  6.431919      7.372494   0.234351  0.884680   0.208371   \n",
       "4  1.823078  7.922952      8.463847   2.482047  0.292568   1.070306   \n",
       "\n",
       "      beta_n     beta_d   y_model  \n",
       "0   6.530943   2.471361  3.895083  \n",
       "1  48.721389  26.364001 -2.888244  \n",
       "2   9.871273   5.768743  2.315150  \n",
       "3  -0.075578   0.027413  7.203650  \n",
       "4   0.765535   0.547548  8.297344  "
      ]
     },
     "execution_count": 79,
     "metadata": {},
     "output_type": "execute_result"
    }
   ],
   "source": [
    "data.head()"
   ]
  },
  {
   "cell_type": "code",
   "execution_count": 93,
   "metadata": {},
   "outputs": [],
   "source": [
    "SSR=sum((data[\"y_model\"]-y_mean)**2)\n",
    "SSD=sum((data[\"y_model\"]-data[\"y_actual\"])**2)\n",
    "SST=sum((data[\"y_actual\"]-y_mean)**2)"
   ]
  },
  {
   "cell_type": "code",
   "execution_count": 94,
   "metadata": {},
   "outputs": [
    {
     "data": {
      "text/plain": [
       "(2101.393625161993, 60.435221033344035, 2161.828846195339)"
      ]
     },
     "execution_count": 94,
     "metadata": {},
     "output_type": "execute_result"
    }
   ],
   "source": [
    "SSR, SSD, SST"
   ]
  },
  {
   "cell_type": "code",
   "execution_count": 95,
   "metadata": {},
   "outputs": [
    {
     "data": {
      "text/plain": [
       "0.9720444006750546"
      ]
     },
     "execution_count": 95,
     "metadata": {},
     "output_type": "execute_result"
    }
   ],
   "source": [
    "R2 = SSR/SST \n",
    "R2"
   ]
  },
  {
   "cell_type": "code",
   "execution_count": 96,
   "metadata": {},
   "outputs": [],
   "source": [
    "#ha mejorado un poco, la mejor forma de verlo es con un gráfico. "
   ]
  },
  {
   "cell_type": "code",
   "execution_count": 97,
   "metadata": {},
   "outputs": [
    {
     "data": {
      "text/plain": [
       "Text(0, 0.5, 'Valor actual')"
      ]
     },
     "execution_count": 97,
     "metadata": {},
     "output_type": "execute_result"
    },
    {
     "data": {
      "image/png": "[encoded data removed]",
      "text/plain": [
       "<Figure size 432x288 with 1 Axes>"
      ]
     },
     "metadata": {
      "needs_background": "light"
     },
     "output_type": "display_data"
    }
   ],
   "source": [
    "%matplotlib inline\n",
    "y_mean =[np.mean(y_act) for i in range(1, len(x_list)+1)]\n",
    "plt.plot(data[\"x\"], data[\"y_prediccion\"])\n",
    "plt.plot(data[\"x\"], data[\"y_actual\"], \"ro\")\n",
    "plt.plot(data[\"x\"], y_mean, \"g\")\n",
    "plt.plot(data[\"x\"], data[\"y_model\"])\n",
    "plt.title(\"Valor actual vs Predicción\")\n",
    "plt.xlabel(\"Predicción\")\n",
    "plt.ylabel(\"Valor actual\")"
   ]
  },
  {
   "cell_type": "code",
   "execution_count": 98,
   "metadata": {},
   "outputs": [],
   "source": [
    "#la línea naranja y la azul están muy cercanas pero igual funcionan "
   ]
  },
  {
   "cell_type": "markdown",
   "metadata": {},
   "source": [
    "Tenemos H0 : beta=0 \n",
    "H1 : beta diferente de 0 \n",
    "El estadístico F, hace una regresión múltiple cada una de las x tiene una beta, también es un requisito comprobar si hay un contraste de hipótesis. El estadístico de llama F \n",
    "F= SSR/k/SSD/(n-k-1), k es la p. Número de variables predictoras del modelo. Con el estadístico de Fischer si es más pequeño que la hipótesis nula puede ser rechazada. \n",
    "El error estándar residual, suma del cuadrado de la diferencia sobre n-2 \n",
    "* RSE= sqrt(SSD/(n-2))  para la simple \n",
    "* RSE= sqrt(SSD/(n-k-1)) para la múltiple, k número de variables predictorias. \n"
   ]
  },
  {
   "cell_type": "code",
   "execution_count": 99,
   "metadata": {},
   "outputs": [
    {
     "data": {
      "text/plain": [
       "0.7852935304150123"
      ]
     },
     "execution_count": 99,
     "metadata": {},
     "output_type": "execute_result"
    }
   ],
   "source": [
    "RSE = np.sqrt(SSD/(len(data)-2))\n",
    "RSE"
   ]
  },
  {
   "cell_type": "code",
   "execution_count": 100,
   "metadata": {},
   "outputs": [
    {
     "data": {
      "text/plain": [
       "6.888395932394583"
      ]
     },
     "execution_count": 100,
     "metadata": {},
     "output_type": "execute_result"
    }
   ],
   "source": [
    "np.mean(data[\"y_actual\"])"
   ]
  },
  {
   "cell_type": "code",
   "execution_count": 101,
   "metadata": {},
   "outputs": [
    {
     "data": {
      "text/plain": [
       "0.11400237996221337"
      ]
     },
     "execution_count": 101,
     "metadata": {},
     "output_type": "execute_result"
    }
   ],
   "source": [
    "RSE/np.mean(data[\"y_actual\"])"
   ]
  },
  {
   "cell_type": "code",
   "execution_count": 102,
   "metadata": {},
   "outputs": [],
   "source": [
    "#se observa un error del 11,4 % debido al uso del modelo. \n",
    "#para validar si el modelo funciona cómo es debido. "
   ]
  },
  {
   "cell_type": "code",
   "execution_count": null,
   "metadata": {},
   "outputs": [],
   "source": []
  }
 ],
 "metadata": {
  "kernelspec": {
   "display_name": "Python 3",
   "language": "python",
   "name": "python3"
  },
  "language_info": {
   "codemirror_mode": {
    "name": "ipython",
    "version": 3
   },
   "file_extension": ".py",
   "mimetype": "text/x-python",
   "name": "python",
   "nbconvert_exporter": "python",
   "pygments_lexer": "ipython3",
   "version": "3.7.4"
  }
 },
 "nbformat": 4,
 "nbformat_minor": 2
}
