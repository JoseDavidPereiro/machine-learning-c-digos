{
 "cells": [
  {
   "cell_type": "markdown",
   "metadata": {},
   "source": [
    "# Dividir el dataset en conjunto de entrenamiento y de testing "
   ]
  },
  {
   "cell_type": "code",
   "execution_count": 3,
   "metadata": {},
   "outputs": [],
   "source": [
    "import pandas as pd \n",
    "import numpy as np \n",
    "import matplotlib.pyplot as plt "
   ]
  },
  {
   "cell_type": "code",
   "execution_count": 4,
   "metadata": {},
   "outputs": [],
   "source": [
    "data= pd.read_csv(\"../datasets/ads/Advertising.csv\")"
   ]
  },
  {
   "cell_type": "code",
   "execution_count": 6,
   "metadata": {},
   "outputs": [],
   "source": [
    "#distribución uniforme del mismo conjunto de datos \n",
    "a=np.random.randn(len(data))"
   ]
  },
  {
   "cell_type": "code",
   "execution_count": 7,
   "metadata": {},
   "outputs": [
    {
     "data": {
      "text/plain": [
       "(array([ 4.,  3., 18., 37., 48., 36., 33., 16.,  4.,  1.]),\n",
       " array([-2.68996453, -2.13617816, -1.58239179, -1.02860542, -0.47481906,\n",
       "         0.07896731,  0.63275368,  1.18654005,  1.74032642,  2.29411279,\n",
       "         2.84789916]),\n",
       " <a list of 10 Patch objects>)"
      ]
     },
     "execution_count": 7,
     "metadata": {},
     "output_type": "execute_result"
    },
    {
     "data": {
      "image/png": "[encoded data removed]",
      "text/plain": [
       "<Figure size 432x288 with 1 Axes>"
      ]
     },
     "metadata": {
      "needs_background": "light"
     },
     "output_type": "display_data"
    }
   ],
   "source": [
    "plt.hist(a)"
   ]
  },
  {
   "cell_type": "code",
   "execution_count": 9,
   "metadata": {},
   "outputs": [],
   "source": [
    "check = (a<0.8)\n",
    "training = data[check]\n",
    "testing =data[~check]"
   ]
  },
  {
   "cell_type": "code",
   "execution_count": 11,
   "metadata": {},
   "outputs": [
    {
     "data": {
      "text/plain": [
       "(159, 41)"
      ]
     },
     "execution_count": 11,
     "metadata": {},
     "output_type": "execute_result"
    }
   ],
   "source": [
    "#depende de la distribución normal\n",
    "len(training), len(testing)"
   ]
  },
  {
   "cell_type": "code",
   "execution_count": 14,
   "metadata": {},
   "outputs": [
    {
     "data": {
      "text/html": [
       "<table class=\"simpletable\">\n",
       "<caption>OLS Regression Results</caption>\n",
       "<tr>\n",
       "  <th>Dep. Variable:</th>          <td>Sales</td>      <th>  R-squared:         </th> <td>   0.896</td>\n",
       "</tr>\n",
       "<tr>\n",
       "  <th>Model:</th>                   <td>OLS</td>       <th>  Adj. R-squared:    </th> <td>   0.894</td>\n",
       "</tr>\n",
       "<tr>\n",
       "  <th>Method:</th>             <td>Least Squares</td>  <th>  F-statistic:       </th> <td>   669.7</td>\n",
       "</tr>\n",
       "<tr>\n",
       "  <th>Date:</th>             <td>Tue, 17 Mar 2020</td> <th>  Prob (F-statistic):</th> <td>2.72e-77</td>\n",
       "</tr>\n",
       "<tr>\n",
       "  <th>Time:</th>                 <td>10:22:25</td>     <th>  Log-Likelihood:    </th> <td> -310.75</td>\n",
       "</tr>\n",
       "<tr>\n",
       "  <th>No. Observations:</th>      <td>   159</td>      <th>  AIC:               </th> <td>   627.5</td>\n",
       "</tr>\n",
       "<tr>\n",
       "  <th>Df Residuals:</th>          <td>   156</td>      <th>  BIC:               </th> <td>   636.7</td>\n",
       "</tr>\n",
       "<tr>\n",
       "  <th>Df Model:</th>              <td>     2</td>      <th>                     </th>     <td> </td>   \n",
       "</tr>\n",
       "<tr>\n",
       "  <th>Covariance Type:</th>      <td>nonrobust</td>    <th>                     </th>     <td> </td>   \n",
       "</tr>\n",
       "</table>\n",
       "<table class=\"simpletable\">\n",
       "<tr>\n",
       "      <td></td>         <th>coef</th>     <th>std err</th>      <th>t</th>      <th>P>|t|</th>  <th>[0.025</th>    <th>0.975]</th>  \n",
       "</tr>\n",
       "<tr>\n",
       "  <th>Intercept</th> <td>    3.0571</td> <td>    0.333</td> <td>    9.181</td> <td> 0.000</td> <td>    2.399</td> <td>    3.715</td>\n",
       "</tr>\n",
       "<tr>\n",
       "  <th>TV</th>        <td>    0.0455</td> <td>    0.002</td> <td>   28.038</td> <td> 0.000</td> <td>    0.042</td> <td>    0.049</td>\n",
       "</tr>\n",
       "<tr>\n",
       "  <th>Radio</th>     <td>    0.1872</td> <td>    0.009</td> <td>   20.503</td> <td> 0.000</td> <td>    0.169</td> <td>    0.205</td>\n",
       "</tr>\n",
       "</table>\n",
       "<table class=\"simpletable\">\n",
       "<tr>\n",
       "  <th>Omnibus:</th>       <td>57.434</td> <th>  Durbin-Watson:     </th> <td>   2.054</td>\n",
       "</tr>\n",
       "<tr>\n",
       "  <th>Prob(Omnibus):</th> <td> 0.000</td> <th>  Jarque-Bera (JB):  </th> <td> 159.487</td>\n",
       "</tr>\n",
       "<tr>\n",
       "  <th>Skew:</th>          <td>-1.469</td> <th>  Prob(JB):          </th> <td>2.33e-35</td>\n",
       "</tr>\n",
       "<tr>\n",
       "  <th>Kurtosis:</th>      <td> 6.930</td> <th>  Cond. No.          </th> <td>    417.</td>\n",
       "</tr>\n",
       "</table><br/><br/>Warnings:<br/>[1] Standard Errors assume that the covariance matrix of the errors is correctly specified."
      ],
      "text/plain": [
       "<class 'statsmodels.iolib.summary.Summary'>\n",
       "\"\"\"\n",
       "                            OLS Regression Results                            \n",
       "==============================================================================\n",
       "Dep. Variable:                  Sales   R-squared:                       0.896\n",
       "Model:                            OLS   Adj. R-squared:                  0.894\n",
       "Method:                 Least Squares   F-statistic:                     669.7\n",
       "Date:                Tue, 17 Mar 2020   Prob (F-statistic):           2.72e-77\n",
       "Time:                        10:22:25   Log-Likelihood:                -310.75\n",
       "No. Observations:                 159   AIC:                             627.5\n",
       "Df Residuals:                     156   BIC:                             636.7\n",
       "Df Model:                           2                                         \n",
       "Covariance Type:            nonrobust                                         \n",
       "==============================================================================\n",
       "                 coef    std err          t      P>|t|      [0.025      0.975]\n",
       "------------------------------------------------------------------------------\n",
       "Intercept      3.0571      0.333      9.181      0.000       2.399       3.715\n",
       "TV             0.0455      0.002     28.038      0.000       0.042       0.049\n",
       "Radio          0.1872      0.009     20.503      0.000       0.169       0.205\n",
       "==============================================================================\n",
       "Omnibus:                       57.434   Durbin-Watson:                   2.054\n",
       "Prob(Omnibus):                  0.000   Jarque-Bera (JB):              159.487\n",
       "Skew:                          -1.469   Prob(JB):                     2.33e-35\n",
       "Kurtosis:                       6.930   Cond. No.                         417.\n",
       "==============================================================================\n",
       "\n",
       "Warnings:\n",
       "[1] Standard Errors assume that the covariance matrix of the errors is correctly specified.\n",
       "\"\"\""
      ]
     },
     "execution_count": 14,
     "metadata": {},
     "output_type": "execute_result"
    }
   ],
   "source": [
    "import statsmodels.formula.api as smf \n",
    "lm=smf.ols(formula=\"Sales~TV+Radio\", data=training).fit()\n",
    "lm.summary()\n"
   ]
  },
  {
   "cell_type": "markdown",
   "metadata": {},
   "source": [
    "R cuadrado de 0.89 el ajustado de 0.89 y el F estadístico alto (por las nubes), el probabilístico chiquito, los estadísticos t son elevados para el de TV y de Radio, todos los parámetros están bien. Los interceptos se parecen al último modelo, el estadístico F es grande pero no es tan grande porque el dataset es más pequeño. La suma del cuadrado de las diferencias es menor porque hay menos datos y esto se utiliza para el estadístico F. \n",
    "Sales= 3.0571\t+ 0.0455 TV + 0.1872 Radio "
   ]
  },
  {
   "cell_type": "markdown",
   "metadata": {},
   "source": [
    "## Validación del modelo con el conjunto de testing "
   ]
  },
  {
   "cell_type": "code",
   "execution_count": 16,
   "metadata": {},
   "outputs": [
    {
     "data": {
      "text/plain": [
       "8       3.841541\n",
       "12     10.710037\n",
       "20     18.181856\n",
       "30     21.684903\n",
       "31     11.452322\n",
       "37     15.703233\n",
       "38     10.016195\n",
       "43     14.046023\n",
       "49      8.291825\n",
       "50     12.730863\n",
       "51      9.423459\n",
       "58     21.935033\n",
       "61     22.941966\n",
       "69     21.141230\n",
       "70     17.846249\n",
       "71     10.730996\n",
       "72     10.453515\n",
       "86     11.676976\n",
       "92     19.235597\n",
       "109    19.716111\n",
       "113    16.452413\n",
       "126    10.693079\n",
       "131    15.670001\n",
       "132     8.530469\n",
       "133    19.331175\n",
       "134    11.961366\n",
       "136    11.521934\n",
       "137    20.923350\n",
       "152    16.411619\n",
       "159    12.495145\n",
       "160    14.295937\n",
       "164    11.142663\n",
       "171    14.455914\n",
       "177    12.263380\n",
       "178    16.081101\n",
       "181    14.012460\n",
       "189     6.172951\n",
       "190    12.547632\n",
       "196     8.261566\n",
       "197    12.853629\n",
       "199    15.230393\n",
       "dtype: float64"
      ]
     },
     "execution_count": 16,
     "metadata": {},
     "output_type": "execute_result"
    }
   ],
   "source": [
    "#aplicando los datos para un modelo y hago una predicción \n",
    "#comprobar cómo diverge la predicción del original\n",
    "sales_pred= lm.predict(testing)\n",
    "sales_pred"
   ]
  },
  {
   "cell_type": "code",
   "execution_count": 17,
   "metadata": {},
   "outputs": [
    {
     "data": {
      "text/plain": [
       "94.37723750336859"
      ]
     },
     "execution_count": 17,
     "metadata": {},
     "output_type": "execute_result"
    }
   ],
   "source": [
    "SSD =sum((testing[\"Sales\"]-sales_pred)**2)\n",
    "SSD"
   ]
  },
  {
   "cell_type": "code",
   "execution_count": 18,
   "metadata": {},
   "outputs": [
    {
     "data": {
      "text/plain": [
       "1.575947814252281"
      ]
     },
     "execution_count": 18,
     "metadata": {},
     "output_type": "execute_result"
    }
   ],
   "source": [
    "RSE = np.sqrt(SSD/(len(testing)-2-1))\n",
    "RSE"
   ]
  },
  {
   "cell_type": "code",
   "execution_count": 19,
   "metadata": {},
   "outputs": [
    {
     "data": {
      "text/plain": [
       "0.11604500787418018"
      ]
     },
     "execution_count": 19,
     "metadata": {},
     "output_type": "execute_result"
    }
   ],
   "source": [
    "sales_mean=np.mean(testing[\"Sales\"])\n",
    "error = RSE/sales_mean\n",
    "error"
   ]
  },
  {
   "cell_type": "code",
   "execution_count": 20,
   "metadata": {},
   "outputs": [],
   "source": [
    "#el error es de 11%, este conjunto de datos nos da este \n",
    "#error "
   ]
  },
  {
   "cell_type": "markdown",
   "metadata": {},
   "source": [
    "# Resumen de las regresiones lineales "
   ]
  },
  {
   "cell_type": "markdown",
   "metadata": {},
   "source": [
    "Tenemos cuatro modelos: \n",
    "* 1. Ventas y TV: \n",
    "* 2. Ventas y TV con Newspaper \n",
    "* 3. Ventas y TV con Radio \n",
    "* 4. Ventas y los tres. \n",
    "El modelo lineal es bueno, las variables tienen que elegirse con los siguientes criterios, el R2 aumenta cuando se añade una variable predictora al modelo, esto no es sinónimo de incrementar la funcionalidad del modelo. El R2 ajustado es el que debe verse aunque no siempre aumenta, también hay que tener en cuenta el F ajustado, no solo el R2. Cuanto menor sea el P valor es mejor añadir esa variable al modelo. \n",
    "Hay que tener en cuenta el R2 ajustado, el estadístico F, el p-valor y el error "
   ]
  },
  {
   "cell_type": "code",
   "execution_count": null,
   "metadata": {},
   "outputs": [],
   "source": []
  }
 ],
 "metadata": {
  "kernelspec": {
   "display_name": "Python 3",
   "language": "python",
   "name": "python3"
  },
  "language_info": {
   "codemirror_mode": {
    "name": "ipython",
    "version": 3
   },
   "file_extension": ".py",
   "mimetype": "text/x-python",
   "name": "python",
   "nbconvert_exporter": "python",
   "pygments_lexer": "ipython3",
   "version": "3.7.4"
  }
 },
 "nbformat": 4,
 "nbformat_minor": 2
}
